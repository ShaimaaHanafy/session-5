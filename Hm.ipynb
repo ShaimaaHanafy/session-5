{
 "cells": [
  {
   "cell_type": "code",
   "execution_count": 7,
   "id": "7c23447f-1301-494b-85c1-3b71082c6acb",
   "metadata": {},
   "outputs": [
    {
     "name": "stdin",
     "output_type": "stream",
     "text": [
      "Enter your first_name:  \n",
      "Enter your last_name:  ahmed\n"
     ]
    },
    {
     "name": "stdout",
     "output_type": "stream",
     "text": [
      " you did'nt provide valid input.\n"
     ]
    }
   ],
   "source": [
    "# case 2\n",
    "f_name= input(\"Enter your first_name: \") \n",
    "l_name = input(\"Enter your last_name: \")\n",
    "#creat the functions\n",
    "def format_name(f_name, l_name):\n",
    "    #check if first name and last name are exist\n",
    "    if not f_name or not l_name :\n",
    "       print (\" you did\\'nt provide valid input.\")\n",
    "    else:\n",
    "        result= f_name + '  '+ l_name\n",
    "        return result.title()\n",
    "        print(result)\n",
    "#call the function\n",
    "format_name(f_name, l_name)"
   ]
  },
  {
   "cell_type": "code",
   "execution_count": 23,
   "id": "b6bade2a-ffa8-494c-a742-eb3cfb4effca",
   "metadata": {},
   "outputs": [
    {
     "name": "stdin",
     "output_type": "stream",
     "text": [
      "please enter your name:  shaimaa\n",
      "please enter your lover name:  ahmed\n"
     ]
    },
    {
     "name": "stdout",
     "output_type": "stream",
     "text": [
      "result TRUE:1\n",
      "result LOVE:1\n"
     ]
    }
   ],
   "source": [
    "#case 1\n",
    "#creat lists\n",
    "L1=['T','R','U','E']\n",
    "L2=['L','O','V','E']\n",
    "#inputs\n",
    "name1 = input(\"please enter your name: \")\n",
    "name2= input(\"please enter your lover name: \")\n",
    "#creat fuction\n",
    "def calculate_love_score(name1, name2):\n",
    "    result = (name1 + name2).upper()\n",
    "    true_count=0\n",
    "    love_count=0\n",
    "    for letter in L1:\n",
    "        true_count+=result.count(letter)\n",
    "    for letter in L2:\n",
    "        true_count+=result.count(letter)\n",
    "    return true_count,love_count\n",
    "#call function\n",
    "true_count,love_count= calculate_love_score(name1, name2)\n",
    "print(f'result TRUE:{true_score}')\n",
    "print(f'result LOVE:{love_score}')\n",
    "  "
   ]
  },
  {
   "cell_type": "code",
   "execution_count": null,
   "id": "d5afd631-484e-4418-b397-785a6d784fa8",
   "metadata": {},
   "outputs": [],
   "source": []
  },
  {
   "cell_type": "code",
   "execution_count": 26,
   "id": "d07384b1-594f-44b5-9046-74b7a93f0ad3",
   "metadata": {},
   "outputs": [
    {
     "name": "stdin",
     "output_type": "stream",
     "text": [
      "Type 'encode' to encrypt, type 'decode' to decrypt:\n",
      " encode\n",
      "Type your message:\n",
      " hello\n",
      "Type the shift number \n",
      " 5\n"
     ]
    },
    {
     "name": "stdout",
     "output_type": "stream",
     "text": [
      "the encoded text is: mjqqt\n"
     ]
    }
   ],
   "source": [
    "alphabet = ['a', 'b', 'c', 'd', 'e', 'f', 'g', 'h', 'i', 'j', 'k', 'l', 'm', 'n', 'o', 'p', 'q', 'r', 's', 't', 'u', 'v', 'w', 'x', 'y', 'z' , 'a', 'b', 'c', 'd', 'e', 'f', 'g', 'h', 'i', 'j', 'k', 'l', 'm', 'n', 'o', 'p', 'q', 'r', 's', 't', 'u', 'v', 'w', 'x', 'y', 'z']\n",
    "#inputs\n",
    "direction = input(\"Type 'encode' to encrypt, type 'decode' to decrypt:\\n\")\n",
    "text = input(\"Type your message:\\n\").lower()\n",
    "shift = int(input(\"Type the shift number \\n\"))\n",
    "def encrypt(plain_text,amount_shift):\n",
    "    plain_text= text\n",
    "    shift_amount= shift\n",
    "    cipher_text=\"\"\n",
    "    for letter in plain_text:\n",
    "        position=alphabet.index(letter)\n",
    "        new_position=position + shift_amount\n",
    "        new_letter=alphabet[new_position]\n",
    "        cipher_text+= new_letter\n",
    "    print(f'the encoded text is: {cipher_text}')\n",
    "\n",
    "encrypt(text,shift)"
   ]
  },
  {
   "cell_type": "code",
   "execution_count": null,
   "id": "ab41b33b-c689-4118-b05e-188ab25e32de",
   "metadata": {},
   "outputs": [],
   "source": []
  },
  {
   "cell_type": "code",
   "execution_count": null,
   "id": "43422269-4854-4252-9f05-e2c8013facdb",
   "metadata": {},
   "outputs": [],
   "source": []
  }
 ],
 "metadata": {
  "kernelspec": {
   "display_name": "Python 3 (ipykernel)",
   "language": "python",
   "name": "python3"
  },
  "language_info": {
   "codemirror_mode": {
    "name": "ipython",
    "version": 3
   },
   "file_extension": ".py",
   "mimetype": "text/x-python",
   "name": "python",
   "nbconvert_exporter": "python",
   "pygments_lexer": "ipython3",
   "version": "3.13.2"
  }
 },
 "nbformat": 4,
 "nbformat_minor": 5
}
